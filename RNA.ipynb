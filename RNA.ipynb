{
 "cells": [
  {
   "cell_type": "markdown",
   "id": "d6eb3002-3c7b-47e8-be8a-05bcec5d3215",
   "metadata": {},
   "source": [
    "# Projeto de previsão de Querys de SQL Injection"
   ]
  },
  {
   "cell_type": "markdown",
   "id": "919c120f-5a1f-4bbd-ac69-3a5a6ef76c13",
   "metadata": {},
   "source": [
    "# Importações"
   ]
  },
  {
   "cell_type": "code",
   "execution_count": 1,
   "id": "e3256ee6-67cf-40d2-ba9b-4485d6756341",
   "metadata": {},
   "outputs": [],
   "source": [
    "from sklearn.model_selection import train_test_split\n",
    "from tensorflow.keras.models import Sequential\n",
    "from sklearn.feature_extraction.text import TfidfVectorizer\n",
    "from sklearn.utils import class_weight\n",
    "from keras.layers import Dense, Input\n",
    "import pandas as pd\n",
    "import numpy as np\n",
    "import matplotlib.pyplot as plt\n",
    "import seaborn as sns"
   ]
  },
  {
   "cell_type": "markdown",
   "id": "67b15e12-b5d5-4ae5-9958-f9fc5f86329f",
   "metadata": {},
   "source": [
    "# Pré-processamento dos dados"
   ]
  },
  {
   "cell_type": "markdown",
   "id": "a08cb6eb-d77c-410c-b414-a67ffeae2b36",
   "metadata": {},
   "source": [
    "## Importação do Dataframe\n",
    "\n",
    "faça o download pelo link: https://www.kaggle.com/datasets/hrishi1563/sql-injection-dataset-with-sqlfeaturesvalue/data"
   ]
  },
  {
   "cell_type": "code",
   "execution_count": 2,
   "id": "fdf47bb4-5bae-431e-a397-4ae504d0708d",
   "metadata": {},
   "outputs": [],
   "source": [
    "df = pd.read_csv(\"SQL_Injection.csv\", dtype={\"Query\": str})"
   ]
  },
  {
   "cell_type": "markdown",
   "id": "e1449f98-af11-4224-9e36-b9c98aee7a87",
   "metadata": {},
   "source": [
    "## Descrição"
   ]
  },
  {
   "cell_type": "code",
   "execution_count": 3,
   "id": "9884f202-9168-4645-b1f2-ee201a261ab4",
   "metadata": {},
   "outputs": [
    {
     "data": {
      "text/html": [
       "<div>\n",
       "<style scoped>\n",
       "    .dataframe tbody tr th:only-of-type {\n",
       "        vertical-align: middle;\n",
       "    }\n",
       "\n",
       "    .dataframe tbody tr th {\n",
       "        vertical-align: top;\n",
       "    }\n",
       "\n",
       "    .dataframe thead th {\n",
       "        text-align: right;\n",
       "    }\n",
       "</style>\n",
       "<table border=\"1\" class=\"dataframe\">\n",
       "  <thead>\n",
       "    <tr style=\"text-align: right;\">\n",
       "      <th></th>\n",
       "      <th>Label</th>\n",
       "      <th>Sentence Length</th>\n",
       "      <th>AND Count</th>\n",
       "      <th>OR Count</th>\n",
       "      <th>UNION Count</th>\n",
       "      <th>Single Quote Count</th>\n",
       "      <th>Double Quote Count</th>\n",
       "      <th>Constant Value Count</th>\n",
       "      <th>Parentheses Count</th>\n",
       "      <th>Special Characters Total</th>\n",
       "    </tr>\n",
       "  </thead>\n",
       "  <tbody>\n",
       "    <tr>\n",
       "      <th>count</th>\n",
       "      <td>30919.000000</td>\n",
       "      <td>30919.000000</td>\n",
       "      <td>30919.000000</td>\n",
       "      <td>30919.000000</td>\n",
       "      <td>30919.000000</td>\n",
       "      <td>30919.000000</td>\n",
       "      <td>30919.000000</td>\n",
       "      <td>30919.000000</td>\n",
       "      <td>30919.000000</td>\n",
       "      <td>30919.000000</td>\n",
       "    </tr>\n",
       "    <tr>\n",
       "      <th>mean</th>\n",
       "      <td>0.368123</td>\n",
       "      <td>68.594845</td>\n",
       "      <td>0.239626</td>\n",
       "      <td>0.127430</td>\n",
       "      <td>0.097222</td>\n",
       "      <td>0.833468</td>\n",
       "      <td>0.256703</td>\n",
       "      <td>2.213914</td>\n",
       "      <td>3.127494</td>\n",
       "      <td>1.447233</td>\n",
       "    </tr>\n",
       "    <tr>\n",
       "      <th>std</th>\n",
       "      <td>0.482303</td>\n",
       "      <td>81.068616</td>\n",
       "      <td>0.520416</td>\n",
       "      <td>0.348911</td>\n",
       "      <td>0.330919</td>\n",
       "      <td>1.663833</td>\n",
       "      <td>0.863389</td>\n",
       "      <td>3.529712</td>\n",
       "      <td>6.687481</td>\n",
       "      <td>3.909025</td>\n",
       "    </tr>\n",
       "    <tr>\n",
       "      <th>min</th>\n",
       "      <td>0.000000</td>\n",
       "      <td>0.000000</td>\n",
       "      <td>0.000000</td>\n",
       "      <td>0.000000</td>\n",
       "      <td>0.000000</td>\n",
       "      <td>0.000000</td>\n",
       "      <td>0.000000</td>\n",
       "      <td>0.000000</td>\n",
       "      <td>0.000000</td>\n",
       "      <td>0.000000</td>\n",
       "    </tr>\n",
       "    <tr>\n",
       "      <th>25%</th>\n",
       "      <td>0.000000</td>\n",
       "      <td>21.000000</td>\n",
       "      <td>0.000000</td>\n",
       "      <td>0.000000</td>\n",
       "      <td>0.000000</td>\n",
       "      <td>0.000000</td>\n",
       "      <td>0.000000</td>\n",
       "      <td>0.000000</td>\n",
       "      <td>0.000000</td>\n",
       "      <td>0.000000</td>\n",
       "    </tr>\n",
       "    <tr>\n",
       "      <th>50%</th>\n",
       "      <td>0.000000</td>\n",
       "      <td>48.000000</td>\n",
       "      <td>0.000000</td>\n",
       "      <td>0.000000</td>\n",
       "      <td>0.000000</td>\n",
       "      <td>0.000000</td>\n",
       "      <td>0.000000</td>\n",
       "      <td>1.000000</td>\n",
       "      <td>0.000000</td>\n",
       "      <td>0.000000</td>\n",
       "    </tr>\n",
       "    <tr>\n",
       "      <th>75%</th>\n",
       "      <td>1.000000</td>\n",
       "      <td>80.000000</td>\n",
       "      <td>0.000000</td>\n",
       "      <td>0.000000</td>\n",
       "      <td>0.000000</td>\n",
       "      <td>1.000000</td>\n",
       "      <td>0.000000</td>\n",
       "      <td>3.000000</td>\n",
       "      <td>3.000000</td>\n",
       "      <td>1.000000</td>\n",
       "    </tr>\n",
       "    <tr>\n",
       "      <th>max</th>\n",
       "      <td>1.000000</td>\n",
       "      <td>5370.000000</td>\n",
       "      <td>6.000000</td>\n",
       "      <td>4.000000</td>\n",
       "      <td>3.000000</td>\n",
       "      <td>13.000000</td>\n",
       "      <td>20.000000</td>\n",
       "      <td>32.000000</td>\n",
       "      <td>44.000000</td>\n",
       "      <td>320.000000</td>\n",
       "    </tr>\n",
       "  </tbody>\n",
       "</table>\n",
       "</div>"
      ],
      "text/plain": [
       "              Label  Sentence Length     AND Count      OR Count  \\\n",
       "count  30919.000000     30919.000000  30919.000000  30919.000000   \n",
       "mean       0.368123        68.594845      0.239626      0.127430   \n",
       "std        0.482303        81.068616      0.520416      0.348911   \n",
       "min        0.000000         0.000000      0.000000      0.000000   \n",
       "25%        0.000000        21.000000      0.000000      0.000000   \n",
       "50%        0.000000        48.000000      0.000000      0.000000   \n",
       "75%        1.000000        80.000000      0.000000      0.000000   \n",
       "max        1.000000      5370.000000      6.000000      4.000000   \n",
       "\n",
       "        UNION Count  Single Quote Count  Double Quote Count  \\\n",
       "count  30919.000000        30919.000000        30919.000000   \n",
       "mean       0.097222            0.833468            0.256703   \n",
       "std        0.330919            1.663833            0.863389   \n",
       "min        0.000000            0.000000            0.000000   \n",
       "25%        0.000000            0.000000            0.000000   \n",
       "50%        0.000000            0.000000            0.000000   \n",
       "75%        0.000000            1.000000            0.000000   \n",
       "max        3.000000           13.000000           20.000000   \n",
       "\n",
       "       Constant Value Count  Parentheses Count  Special Characters Total  \n",
       "count          30919.000000       30919.000000              30919.000000  \n",
       "mean               2.213914           3.127494                  1.447233  \n",
       "std                3.529712           6.687481                  3.909025  \n",
       "min                0.000000           0.000000                  0.000000  \n",
       "25%                0.000000           0.000000                  0.000000  \n",
       "50%                1.000000           0.000000                  0.000000  \n",
       "75%                3.000000           3.000000                  1.000000  \n",
       "max               32.000000          44.000000                320.000000  "
      ]
     },
     "execution_count": 3,
     "metadata": {},
     "output_type": "execute_result"
    }
   ],
   "source": [
    "df.describe()"
   ]
  },
  {
   "cell_type": "code",
   "execution_count": 4,
   "id": "3034bd30-7242-42e0-97bc-7da427d18141",
   "metadata": {},
   "outputs": [
    {
     "ename": "SyntaxError",
     "evalue": "invalid syntax (885228053.py, line 1)",
     "output_type": "error",
     "traceback": [
      "\u001b[1;36m  Cell \u001b[1;32mIn[4], line 1\u001b[1;36m\u001b[0m\n\u001b[1;33m    ............................................\u001b[0m\n\u001b[1;37m       ^\u001b[0m\n\u001b[1;31mSyntaxError\u001b[0m\u001b[1;31m:\u001b[0m invalid syntax\n"
     ]
    }
   ],
   "source": [
    "............................................"
   ]
  },
  {
   "cell_type": "markdown",
   "id": "b17c4c1b-35c2-4d9f-9529-f95369cf72f2",
   "metadata": {},
   "source": [
    "## Correlação das colunas numéricas com o Label"
   ]
  },
  {
   "cell_type": "code",
   "execution_count": 3,
   "id": "1d5763eb-c8f0-40dc-9238-ad6a72c0b086",
   "metadata": {},
   "outputs": [
    {
     "data": {
      "image/png": "[encoded data removed]",
      "text/plain": [
       "<Figure size 600x500 with 2 Axes>"
      ]
     },
     "metadata": {},
     "output_type": "display_data"
    }
   ],
   "source": [
    "df_corr = df.drop(columns=[\"Query\"]).corr()\n",
    "\n",
    "label_corr = df_corr[[\"Label\"]].sort_values(by=\"Label\", ascending=False)\n",
    "\n",
    "plt.figure(figsize=(6, len(label_corr)*0.5))\n",
    "sns.heatmap(label_corr, annot=True, fmt=\".2f\", cmap=\"coolwarm\", cbar=True)\n",
    "plt.title(\"Correlação das colunas com Label\")\n",
    "plt.show()"
   ]
  },
  {
   "cell_type": "code",
   "execution_count": 4,
   "id": "d013561c-9555-4947-affc-89e9fcb05aeb",
   "metadata": {},
   "outputs": [],
   "source": [
    "y = df[\"Label\"].values"
   ]
  },
  {
   "cell_type": "markdown",
   "id": "3b88ee99-786d-4735-994e-d70008febe8c",
   "metadata": {},
   "source": [
    "## Vectorização de texto\n",
    "\n",
    "Abvaixo o código está convertendo texto em vetores TF-IDF, mantendo atributos tabulares, e depois unificando ambos em uma matriz única de features para treinamento/teste de um modelo.\n",
    "\n",
    "E depois unindo aos dados tabulares do dataset"
   ]
  },
  {
   "cell_type": "code",
   "execution_count": 5,
   "id": "ee6e88ca-eee0-4dc4-a7ee-676fc3cf0b9d",
   "metadata": {},
   "outputs": [],
   "source": [
    "vectorizer = TfidfVectorizer(max_features=100)\n",
    "x_query = vectorizer.fit_transform(df[\"Query\"]).toarray()\n",
    "\n",
    "x_tabular = df.drop(columns=[\"Label\", \"Query\"]).values\n",
    "\n",
    "x = np.hstack([x_query, x_tabular])"
   ]
  },
  {
   "cell_type": "markdown",
   "id": "76d09029-1b55-479a-9c84-8c230c65cfc6",
   "metadata": {},
   "source": [
    "### Segmentação de treino e teste"
   ]
  },
  {
   "cell_type": "code",
   "execution_count": null,
   "id": "5140d27f-74ce-421e-a735-36dd9fe284cb",
   "metadata": {},
   "outputs": [],
   "source": [
    "x_train, x_test, y_train, y_test = train_test_split(x,y, test_size=0.3, random_state=42)"
   ]
  },
  {
   "cell_type": "code",
   "execution_count": null,
   "id": "18ac4579-8f40-43e4-a1a1-8707548cd54a",
   "metadata": {},
   "outputs": [],
   "source": [
    "mlp = Sequential()\n",
    "mlp.add(Input(shape=(x_train.shape[1],)))\n",
    "mlp.add(Dense(4, activation='relu'))\n",
    "mlp.add(Dense(1, activation='sigmoid'))"
   ]
  },
  {
   "cell_type": "code",
   "execution_count": null,
   "id": "c329b3ab-4762-48df-a7cb-b4647c1d4821",
   "metadata": {},
   "outputs": [],
   "source": [
    "mlp.summary()"
   ]
  },
  {
   "cell_type": "code",
   "execution_count": null,
   "id": "4bf265b2-194d-4f02-bbaf-98bc16ecb254",
   "metadata": {},
   "outputs": [],
   "source": [
    "mlp.compile(loss=\"binary_crossentropy\", optimizer=\"adam\", metrics = ['accuracy'])"
   ]
  },
  {
   "cell_type": "code",
   "execution_count": null,
   "id": "b4a48238-85f6-422c-bc68-5a7567b59535",
   "metadata": {},
   "outputs": [],
   "source": [
    "mlp.fit(x_train, y_train, epochs=20, verbose=1)"
   ]
  },
  {
   "cell_type": "code",
   "execution_count": null,
   "id": "369e4f1d-79b4-480a-b9bd-9d5f9b681dcc",
   "metadata": {},
   "outputs": [],
   "source": [
    "_, acuracia = mlp.evaluate(x_test, y_test)\n",
    "print(\"Acurácia: %.2f\" %(acuracia*100))"
   ]
  },
  {
   "cell_type": "code",
   "execution_count": null,
   "id": "c1bfed24-a707-4662-88ab-6e7216db957c",
   "metadata": {},
   "outputs": [],
   "source": [
    "previsoes = mlp.predict(x_test, verbose=1)\n",
    "rounded_previsoes = [round(x[0]) for x in previsoes]"
   ]
  },
  {
   "cell_type": "code",
   "execution_count": null,
   "id": "43eaa3cf-dca6-4b8b-9501-52bd7175346b",
   "metadata": {},
   "outputs": [],
   "source": [
    "from sklearn.metrics import confusion_matrix\n",
    "import matplotlib.pyplot as plt\n",
    "import seaborn as sns"
   ]
  },
  {
   "cell_type": "code",
   "execution_count": null,
   "id": "b1cc7e34-805c-4f9c-8582-0a641238c984",
   "metadata": {},
   "outputs": [],
   "source": [
    "conf_mat = confusion_matrix(y_test, rounded_previsoes)\n",
    "\n",
    "sns.heatmap(conf_mat, annot=True, fmt='d', cmap=\"Blues\")\n",
    "plt.xlabel('Previsao')\n",
    "plt.ylabel('Real')\n",
    "plt.title('Matriz de confusão')\n",
    "plt.show()"
   ]
  },
  {
   "cell_type": "code",
   "execution_count": null,
   "id": "a5890bbe-a1a1-4d6f-9582-18eaaf1f4693",
   "metadata": {},
   "outputs": [],
   "source": []
  }
 ],
 "metadata": {
  "kernelspec": {
   "display_name": "Python 3 (ipykernel)",
   "language": "python",
   "name": "python3"
  },
  "language_info": {
   "codemirror_mode": {
    "name": "ipython",
    "version": 3
   },
   "file_extension": ".py",
   "mimetype": "text/x-python",
   "name": "python",
   "nbconvert_exporter": "python",
   "pygments_lexer": "ipython3",
   "version": "3.9.13"
  }
 },
 "nbformat": 4,
 "nbformat_minor": 5
}
